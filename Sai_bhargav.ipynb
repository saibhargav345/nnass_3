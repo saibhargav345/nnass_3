{
  "nbformat": 4,
  "nbformat_minor": 0,
  "metadata": {
    "colab": {
      "provenance": []
    },
    "kernelspec": {
      "name": "python3",
      "display_name": "Python 3"
    },
    "language_info": {
      "name": "python"
    }
  },
  "cells": [
    {
      "cell_type": "code",
      "execution_count": 4,
      "metadata": {
        "colab": {
          "base_uri": "https://localhost:8080/"
        },
        "id": "Y9H6_cMoaFF2",
        "outputId": "0c9ed3df-7a2f-4d14-c05c-62102fb6f642"
      },
      "outputs": [
        {
          "output_type": "stream",
          "name": "stdout",
          "text": [
            "Total number of employees: 4\n",
            "Average salary: 76250.0\n"
          ]
        }
      ],
      "source": [
        "class Employee:\n",
        "    num_employees = 0\n",
        "\n",
        "    def __init__(self, name, family, salary, department):\n",
        "        self.name = name\n",
        "        self.family = family\n",
        "        self.salary = salary\n",
        "        self.department = department\n",
        "        Employee.num_employees += 1\n",
        "\n",
        "    @staticmethod\n",
        "    def average_salary(employees):\n",
        "        total_salary = sum(emp.salary for emp in employees)\n",
        "        return total_salary / len(employees)\n",
        "\n",
        "class FulltimeEmployee(Employee):\n",
        "    def __init__(self, name, family, salary, department, experience):\n",
        "        super().__init__(name, family, salary, department)\n",
        "        self.experience = experience\n",
        "\n",
        "employee1 = Employee(\"John Doe\", \"Family A\", 60000, \"HR\")\n",
        "employee2 = Employee(\"Jane Smith\", \"Family B\", 75000, \"Finance\")\n",
        "\n",
        "fulltime_employee1 = FulltimeEmployee(\"Alice Johnson\", \"Family C\", 80000, \"IT\", 3)\n",
        "fulltime_employee2 = FulltimeEmployee(\"Bob Williams\", \"Family D\", 90000, \"Engineering\", 5)\n",
        "\n",
        "employees = [employee1, employee2, fulltime_employee1, fulltime_employee2]\n",
        "avg_salary = Employee.average_salary(employees)\n",
        "\n",
        "print(\"Total number of employees:\", Employee.num_employees)\n",
        "print(\"Average salary:\", avg_salary)\n"
      ]
    },
    {
      "cell_type": "code",
      "source": [
        "import numpy as np\n",
        "random_vector = np.random.uniform(1, 20, size=20)\n",
        "print(\"Original array:\")\n",
        "print(random_vector)\n",
        "\n",
        "reshaped_array = random_vector.reshape(4, 5)\n",
        "\n",
        "max_indices = np.argmax(reshaped_array, axis=1)\n",
        "\n",
        "reshaped_array[np.arange(4), max_indices] = 0\n",
        "\n",
        "print(\"\\nReshaped array:\")\n",
        "print(reshaped_array)\n"
      ],
      "metadata": {
        "colab": {
          "base_uri": "https://localhost:8080/"
        },
        "id": "2J8ySKdhaGeT",
        "outputId": "41e9e266-a582-4eb5-b13e-fb17fe79a055"
      },
      "execution_count": 5,
      "outputs": [
        {
          "output_type": "stream",
          "name": "stdout",
          "text": [
            "Original array:\n",
            "[ 4.81941049 10.94131082  4.76346696 11.99768242 19.36396732 19.25110328\n",
            "  7.99717574  3.5782389  12.13740974 15.7535316   7.86316379 10.06709053\n",
            " 15.64571699 14.44121018  8.71522381 13.80753415  6.68526069 16.20091944\n",
            " 19.99967085  5.79490264]\n",
            "\n",
            "Reshaped array:\n",
            "[[ 4.81941049 10.94131082  4.76346696 11.99768242  0.        ]\n",
            " [ 0.          7.99717574  3.5782389  12.13740974 15.7535316 ]\n",
            " [ 7.86316379 10.06709053  0.         14.44121018  8.71522381]\n",
            " [13.80753415  6.68526069 16.20091944  0.          5.79490264]]\n"
          ]
        }
      ]
    },
    {
      "cell_type": "code",
      "source": [],
      "metadata": {
        "id": "G4FdgJckaWmB"
      },
      "execution_count": null,
      "outputs": []
    }
  ]
}